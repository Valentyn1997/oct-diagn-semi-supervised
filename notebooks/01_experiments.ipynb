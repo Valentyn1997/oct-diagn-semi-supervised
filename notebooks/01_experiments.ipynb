{
 "cells": [
  {
   "cell_type": "code",
   "execution_count": 38,
   "metadata": {},
   "outputs": [],
   "source": [
    "import mlflow\n",
    "import matplotlib.pyplot as plt\n",
    "import matplotlib\n",
    "from matplotlib.ticker import NullFormatter, FormatStrFormatter, ScalarFormatter\n",
    "import tikzplotlib\n",
    "import pandas as pd\n",
    "\n",
    "from matplotlib import rc\n",
    "rc('font',**{'family':'libertine'})\n",
    "rc('text', usetex=True)\n",
    "\n",
    "\n",
    "import seaborn as sns\n",
    "\n",
    "import sys\n",
    "sys.path.append('../')\n",
    "\n",
    "from src import DATA_PATH, ROOT_PATH\n",
    "DATA_PATH = f'{DATA_PATH}/OCT2017'\n",
    "FIGURES_PATH = f'{ROOT_PATH}/reports/figures'\n",
    "\n",
    "mlflow.set_tracking_uri('http://localhost:5001')"
   ]
  },
  {
   "cell_type": "code",
   "execution_count": 39,
   "metadata": {},
   "outputs": [],
   "source": [
    "runs = mlflow.search_runs(filter_string=f\"tags.type_of_run = 'varying_number_of_labels'\",\n",
    "                                           run_view_type=mlflow.tracking.client.ViewType.ACTIVE_ONLY,\n",
    "                                           experiment_ids=[1, 2, 4])\n",
    "runs['params.n_labels_train'] = runs['params.n_labels_train'].astype(int)\n",
    "runs['params.patience'] = runs.apply(lambda row: row['params.early_stopping_patience'] if row['params.early_stopping'] is None \n",
    "                                     else eval(row['params.early_stopping'])['patience'], \n",
    "                                     axis=1).astype(int)\n",
    "runs['params.epochs'] = runs['params.epochs'].astype(int)\n"
   ]
  },
  {
   "cell_type": "code",
   "execution_count": 40,
   "metadata": {},
   "outputs": [],
   "source": [
    "runs = runs[~runs.end_time.isna()]\n",
    "# runs = runs[(runs['params.epochs'] == runs['params.patience']) | (runs['experiment_id'] == '2')]"
   ]
  },
  {
   "cell_type": "code",
   "execution_count": 41,
   "metadata": {},
   "outputs": [],
   "source": [
    "best_full_supervised = mlflow.search_runs(filter_string=\"params.split_lab_unlab = 'False'\",\n",
    "                                          experiment_ids=[2], \n",
    "                                          run_view_type=mlflow.tracking.client.ViewType.ACTIVE_ONLY)"
   ]
  },
  {
   "cell_type": "code",
   "execution_count": 42,
   "metadata": {},
   "outputs": [],
   "source": [
    "best_full_supervised_acc = best_full_supervised['metrics.acc_top1'].max()\n",
    "best_full_supervised_acc *= 0.01"
   ]
  },
  {
   "cell_type": "code",
   "execution_count": 43,
   "metadata": {},
   "outputs": [
    {
     "data": {
      "text/plain": [
       "0.9968750000000001"
      ]
     },
     "execution_count": 43,
     "metadata": {},
     "output_type": "execute_result"
    }
   ],
   "source": [
    "best_full_supervised_acc"
   ]
  },
  {
   "cell_type": "markdown",
   "metadata": {},
   "source": [
    "## Top algorithms"
   ]
  },
  {
   "cell_type": "code",
   "execution_count": 44,
   "metadata": {},
   "outputs": [],
   "source": [
    "grouped_max = runs.groupby(['experiment_id', 'params.n_labels_train'])['metrics.acc_top1'].agg([max, min, 'mean', len])\n",
    "grouped_max = grouped_max.stack()\n",
    "grouped_max = grouped_max.rename('value')\n",
    "grouped_max.index = grouped_max.index.rename('agg', level=2)\n",
    "grouped_max = grouped_max.reset_index()\n",
    "\n",
    "grouped_max['params.n_labels_train'] = grouped_max['params.n_labels_train'].astype(int)\n",
    "grouped_max['experiment_id'] = grouped_max['experiment_id'].map({'1': 'Mix-Match', \n",
    "                                                                 '2': 'Transfer Learning', \n",
    "                                                                 '4': 'Fix-Match'})\n",
    "grouped_max.value *= 0.01"
   ]
  },
  {
   "cell_type": "code",
   "execution_count": 45,
   "metadata": {},
   "outputs": [
    {
     "name": "stderr",
     "output_type": "stream",
     "text": [
      "INFO:matplotlib.texmanager:font.family must be one of (serif, sans-serif, cursive, monospace) when text.usetex is True. serif will be used by default.\n",
      "INFO:matplotlib.texmanager:No LaTeX-compatible font found for the serif font family in rcParams. Using default.\n",
      "WARNING:matplotlib.font_manager:findfont: Font family ['libertine'] not found. Falling back to DejaVu Sans.\n"
     ]
    },
    {
     "data": {
      "image/png": "[encoded data removed]",
      "text/plain": [
       "<Figure size 360x216 with 1 Axes>"
      ]
     },
     "metadata": {
      "needs_background": "light"
     },
     "output_type": "display_data"
    }
   ],
   "source": [
    "fig, ax = plt.subplots(1, 1, figsize = (5, 3))\n",
    "\n",
    "g = sns.lineplot(x=\"params.n_labels_train\", y=\"value\", hue=\"experiment_id\",\n",
    "                 data=grouped_max[grouped_max['agg'] == 'max'], marker='o', ax=ax)\n",
    "ax.axhline(best_full_supervised_acc, alpha=0.5, color='black', linestyle='--', label='Fully Supervised (all labels)')\n",
    "ax.text(43, best_full_supervised_acc-0.02, f'{best_full_supervised_acc:.5f}')\n",
    "ax.set_xscale('log')\n",
    "# ax.set_yscale('logit')\n",
    "ax.set_xticks(sorted(grouped_max['params.n_labels_train'].unique()))\n",
    "\n",
    "ax.get_xaxis().set_major_formatter(ScalarFormatter())\n",
    "# ax.get_yaxis().set_major_formatter(FormatStrFormatter('%g'))\n",
    "# ax.get_yaxis().set_minor_formatter(NullFormatter())\n",
    "# ax.get_yaxis().set_ticks([0.5, 0.6, 0.7, 0.8, 0.9, 0.95, 0.98, 0.99, 0.995, 0.9995, 0.999])\n",
    "\n",
    "ax.set_xlabel('$n_l$ - number of labelled datapoints, log-scaled')\n",
    "ax.set_ylabel('Test accuracy')\n",
    "\n",
    "ax.legend().texts[0].set_text(\"Models\")\n",
    "plt.grid()\n",
    "plt.savefig(f'{FIGURES_PATH}/best_models.pdf')"
   ]
  },
  {
   "cell_type": "markdown",
   "metadata": {},
   "source": [
    "## Top transfer learning"
   ]
  },
  {
   "cell_type": "code",
   "execution_count": 46,
   "metadata": {},
   "outputs": [],
   "source": [
    "param_name = 'params.freeze_layers'\n",
    "# param_name = 'params.lr'\n",
    "# param_name = 'params.ema_decay'\n",
    "\n",
    "\n",
    "transfer_max = runs[runs['experiment_id'] == '2'].groupby(['params.n_labels_train', param_name])['metrics.acc_top1'].agg([max])\n",
    "transfer_max = transfer_max.stack()\n",
    "transfer_max = transfer_max.rename('value')\n",
    "transfer_max.index = transfer_max.index.rename('agg', level=2)\n",
    "transfer_max = transfer_max.reset_index()\n",
    "\n",
    "transfer_max['params.n_labels_train'] = transfer_max['params.n_labels_train'].astype(int)\n",
    "transfer_max.value *= 0.01\n",
    "transfer_max[param_name] = transfer_max[param_name].astype('category')\n",
    "\n",
    "transfer_max['params.freeze_layers'] = transfer_max['params.freeze_layers'].map({'False': 'Fine-tuning', \n",
    "                                                                                 'True': 'Feature extraction'})\n"
   ]
  },
  {
   "cell_type": "code",
   "execution_count": 47,
   "metadata": {},
   "outputs": [
    {
     "data": {
      "image/png": "[encoded data removed]",
      "text/plain": [
       "<Figure size 360x216 with 1 Axes>"
      ]
     },
     "metadata": {
      "needs_background": "light"
     },
     "output_type": "display_data"
    }
   ],
   "source": [
    "fig, ax = plt.subplots(1, 1, figsize = (5, 3))\n",
    "\n",
    "g = sns.lineplot(x=\"params.n_labels_train\", y=\"value\", hue=param_name, palette=\"Oranges\",\n",
    "                 data=transfer_max, marker='o', ax=ax)\n",
    "ax.axhline(best_full_supervised_acc, alpha=0.5, color='black', linestyle='--', label='Fully Supervised (all labels)')\n",
    "ax.text(43, best_full_supervised_acc-0.02, f'{best_full_supervised_acc:.5f}')\n",
    "ax.set_xscale('log')\n",
    "ax.set_xticks(sorted(transfer_max['params.n_labels_train'].unique()))\n",
    "\n",
    "ax.get_xaxis().set_major_formatter(ScalarFormatter())\n",
    "\n",
    "ax.set_xlabel('$n_l$ - number of labelled datapoints, log-scaled')\n",
    "ax.set_ylabel('Test accuracy')\n",
    "\n",
    "ax.legend().texts[0].set_text(\"Layers freezing\")\n",
    "plt.grid()\n",
    "plt.savefig(f'{FIGURES_PATH}/transfer_learning_freezing.pdf')"
   ]
  },
  {
   "cell_type": "code",
   "execution_count": 48,
   "metadata": {},
   "outputs": [
    {
     "data": {
      "image/png": "[encoded data removed]",
      "text/plain": [
       "<Figure size 720x288 with 2 Axes>"
      ]
     },
     "metadata": {
      "needs_background": "light"
     },
     "output_type": "display_data"
    }
   ],
   "source": [
    "fig, ax = plt.subplots(1, 2, figsize = (10, 4), sharey = True)\n",
    "g = sns.lineplot(x=\"params.n_labels_train\", y=\"value\", hue=\"experiment_id\",\n",
    "                 data=grouped_max[grouped_max['agg'] == 'max'], marker='o', ax=ax[0])\n",
    "ax[0].axhline(best_full_supervised_acc, alpha=0.5, color='black', linestyle='--', label='Fully Supervised (all labels)')\n",
    "ax[0].text(40, best_full_supervised_acc-0.05, f'{best_full_supervised_acc:.5f}')\n",
    "ax[0].set_xscale('log')\n",
    "ax[0].set_xticks(sorted(grouped_max['params.n_labels_train'].unique()))\n",
    "\n",
    "ax[0].get_xaxis().set_major_formatter(ScalarFormatter())\n",
    "\n",
    "ax[0].set_xlabel('$n_l$ - number of labelled datapoints, log-scaled')\n",
    "ax[0].set_ylabel('Test accuracy')\n",
    "\n",
    "ax[0].legend().texts[0].set_text(\"Models\")\n",
    "\n",
    "g = sns.lineplot(x=\"params.n_labels_train\", y=\"value\", hue=param_name, palette=\"Oranges\",\n",
    "                 data=transfer_max, marker='o', ax=ax[1])\n",
    "ax[1].axhline(best_full_supervised_acc, alpha=0.5, color='black', linestyle='--', label='Fully Supervised (all labels)')\n",
    "ax[1].text(40, best_full_supervised_acc-0.05, f'{best_full_supervised_acc:.5f}')\n",
    "ax[1].set_xscale('log')\n",
    "ax[1].set_xticks(sorted(transfer_max['params.n_labels_train'].unique()))\n",
    "\n",
    "ax[1].get_xaxis().set_major_formatter(ScalarFormatter())\n",
    "\n",
    "ax[1].set_xlabel('$n_l$ - number of labelled datapoints, log-scaled')\n",
    "ax[1].set_ylabel('Test accuracy')\n",
    "\n",
    "ax[1].legend().texts[0].set_text(\"Layers freezing\")\n",
    "\n",
    "ax[0].grid()\n",
    "ax[1].grid()\n",
    "plt.savefig(f'{FIGURES_PATH}/performances.pdf')\n"
   ]
  },
  {
   "cell_type": "markdown",
   "metadata": {},
   "source": [
    "## EMA decay study"
   ]
  },
  {
   "cell_type": "code",
   "execution_count": 49,
   "metadata": {},
   "outputs": [
    {
     "data": {
      "text/html": [
       "<div>\n",
       "<style scoped>\n",
       "    .dataframe tbody tr th:only-of-type {\n",
       "        vertical-align: middle;\n",
       "    }\n",
       "\n",
       "    .dataframe tbody tr th {\n",
       "        vertical-align: top;\n",
       "    }\n",
       "\n",
       "    .dataframe thead tr th {\n",
       "        text-align: left;\n",
       "    }\n",
       "\n",
       "    .dataframe thead tr:last-of-type th {\n",
       "        text-align: right;\n",
       "    }\n",
       "</style>\n",
       "<table border=\"1\" class=\"dataframe\">\n",
       "  <thead>\n",
       "    <tr>\n",
       "      <th>$n_l$</th>\n",
       "      <th colspan=\"2\" halign=\"left\">40</th>\n",
       "      <th colspan=\"2\" halign=\"left\">100</th>\n",
       "      <th colspan=\"2\" halign=\"left\">200</th>\n",
       "      <th colspan=\"2\" halign=\"left\">800</th>\n",
       "      <th colspan=\"2\" halign=\"left\">2000</th>\n",
       "      <th colspan=\"2\" halign=\"left\">4000</th>\n",
       "      <th colspan=\"2\" halign=\"left\">20000</th>\n",
       "    </tr>\n",
       "    <tr>\n",
       "      <th>EMA decay</th>\n",
       "      <th>0.0</th>\n",
       "      <th>0.999</th>\n",
       "      <th>0.0</th>\n",
       "      <th>0.999</th>\n",
       "      <th>0.0</th>\n",
       "      <th>0.999</th>\n",
       "      <th>0.0</th>\n",
       "      <th>0.999</th>\n",
       "      <th>0.0</th>\n",
       "      <th>0.999</th>\n",
       "      <th>0.0</th>\n",
       "      <th>0.999</th>\n",
       "      <th>0.0</th>\n",
       "      <th>0.999</th>\n",
       "    </tr>\n",
       "    <tr>\n",
       "      <th>Models</th>\n",
       "      <th></th>\n",
       "      <th></th>\n",
       "      <th></th>\n",
       "      <th></th>\n",
       "      <th></th>\n",
       "      <th></th>\n",
       "      <th></th>\n",
       "      <th></th>\n",
       "      <th></th>\n",
       "      <th></th>\n",
       "      <th></th>\n",
       "      <th></th>\n",
       "      <th></th>\n",
       "      <th></th>\n",
       "    </tr>\n",
       "  </thead>\n",
       "  <tbody>\n",
       "    <tr>\n",
       "      <th>Mix-Match</th>\n",
       "      <td>83.02</td>\n",
       "      <td>55.00</td>\n",
       "      <td>75.73</td>\n",
       "      <td>81.98</td>\n",
       "      <td>92.50</td>\n",
       "      <td>88.85</td>\n",
       "      <td>94.69</td>\n",
       "      <td>96.88</td>\n",
       "      <td>98.02</td>\n",
       "      <td>98.23</td>\n",
       "      <td>98.02</td>\n",
       "      <td>98.96</td>\n",
       "      <td>99.06</td>\n",
       "      <td>98.75</td>\n",
       "    </tr>\n",
       "    <tr>\n",
       "      <th>Transfer Learning</th>\n",
       "      <td>58.96</td>\n",
       "      <td>37.92</td>\n",
       "      <td>78.65</td>\n",
       "      <td>40.10</td>\n",
       "      <td>90.52</td>\n",
       "      <td>53.23</td>\n",
       "      <td>95.00</td>\n",
       "      <td>77.92</td>\n",
       "      <td>97.71</td>\n",
       "      <td>97.60</td>\n",
       "      <td>98.23</td>\n",
       "      <td>99.17</td>\n",
       "      <td>99.38</td>\n",
       "      <td>99.90</td>\n",
       "    </tr>\n",
       "    <tr>\n",
       "      <th>Fix-Match</th>\n",
       "      <td>86.33</td>\n",
       "      <td>72.66</td>\n",
       "      <td>82.91</td>\n",
       "      <td>75.88</td>\n",
       "      <td>97.07</td>\n",
       "      <td>98.14</td>\n",
       "      <td>98.34</td>\n",
       "      <td>98.05</td>\n",
       "      <td>97.85</td>\n",
       "      <td>99.12</td>\n",
       "      <td>98.34</td>\n",
       "      <td>99.32</td>\n",
       "      <td>98.63</td>\n",
       "      <td>99.41</td>\n",
       "    </tr>\n",
       "  </tbody>\n",
       "</table>\n",
       "</div>"
      ],
      "text/plain": [
       "$n_l$              40            100           200           800           \\\n",
       "EMA decay            0.0  0.999    0.0  0.999    0.0  0.999    0.0  0.999   \n",
       "Models                                                                      \n",
       "Mix-Match          83.02  55.00  75.73  81.98  92.50  88.85  94.69  96.88   \n",
       "Transfer Learning  58.96  37.92  78.65  40.10  90.52  53.23  95.00  77.92   \n",
       "Fix-Match          86.33  72.66  82.91  75.88  97.07  98.14  98.34  98.05   \n",
       "\n",
       "$n_l$              2000          4000          20000         \n",
       "EMA decay            0.0  0.999    0.0  0.999    0.0  0.999  \n",
       "Models                                                       \n",
       "Mix-Match          98.02  98.23  98.02  98.96  99.06  98.75  \n",
       "Transfer Learning  97.71  97.60  98.23  99.17  99.38  99.90  \n",
       "Fix-Match          97.85  99.12  98.34  99.32  98.63  99.41  "
      ]
     },
     "execution_count": 49,
     "metadata": {},
     "output_type": "execute_result"
    }
   ],
   "source": [
    "\n",
    "grouped_ema = runs.groupby(['experiment_id', 'params.n_labels_train', 'params.ema_decay'])['metrics.acc_top1'].agg([max])\n",
    "\n",
    "grouped_ema = grouped_ema.stack()\n",
    "grouped_ema = grouped_ema.rename('value')\n",
    "# grouped_ema *= 0.01\n",
    "grouped_ema.index = grouped_ema.index.rename('agg', level=3)\n",
    "grouped_ema.index = grouped_ema.index.droplevel(level = 3)\n",
    "grouped_ema = grouped_ema.unstack(level=[1, 2])\n",
    "\n",
    "grouped_ema.index = grouped_ema.index.map({'1': 'Mix-Match', '2': 'Transfer Learning', '4': 'Fix-Match'})\n",
    "\n",
    "grouped_ema.columns.names = ['$n_l$', 'EMA decay']\n",
    "grouped_ema = grouped_ema.round(2)\n",
    "grouped_ema.index.name = 'Models'\n",
    "grouped_ema\n"
   ]
  },
  {
   "cell_type": "code",
   "execution_count": 51,
   "metadata": {},
   "outputs": [
    {
     "name": "stdout",
     "output_type": "stream",
     "text": [
      "\\begin{tabular}{lrrrrrrrrrrrrrr}\n",
      "\\toprule\n",
      "\\$n\\_l\\$ & \\multicolumn{2}{l}{40} & \\multicolumn{2}{l}{100} & \\multicolumn{2}{l}{200} & \\multicolumn{2}{l}{800} & \\multicolumn{2}{l}{2000} & \\multicolumn{2}{l}{4000} & \\multicolumn{2}{l}{20000} \\\\\n",
      "EMA decay &    0.0 &  0.999 &    0.0 &  0.999 &    0.0 &  0.999 &    0.0 &  0.999 &    0.0 &  0.999 &    0.0 &  0.999 &    0.0 &  0.999 \\\\\n",
      "Models            &        &        &        &        &        &        &        &        &        &        &        &        &        &        \\\\\n",
      "\\midrule\n",
      "Mix-Match         &  83.02 &  55.00 &  75.73 &  81.98 &  92.50 &  88.85 &  94.69 &  96.88 &  98.02 &  98.23 &  98.02 &  98.96 &  99.06 &  98.75 \\\\\n",
      "Transfer Learning &  58.96 &  37.92 &  78.65 &  40.10 &  90.52 &  53.23 &  95.00 &  77.92 &  97.71 &  97.60 &  98.23 &  99.17 &  99.38 &  99.90 \\\\\n",
      "Fix-Match         &  86.33 &  72.66 &  82.91 &  75.88 &  97.07 &  98.14 &  98.34 &  98.05 &  97.85 &  99.12 &  98.34 &  99.32 &  98.63 &  99.41 \\\\\n",
      "\\bottomrule\n",
      "\\end{tabular}\n",
      "\n"
     ]
    }
   ],
   "source": [
    "print(grouped_ema.to_latex(bold_rows=False))"
   ]
  },
  {
   "cell_type": "code",
   "execution_count": 52,
   "metadata": {},
   "outputs": [
    {
     "name": "stdout",
     "output_type": "stream",
     "text": [
      "\\begin{tabular}{lrrrrrrrr}\n",
      "\\toprule\n",
      "\\$n\\_l\\$ & \\multicolumn{2}{l}{40} & \\multicolumn{2}{l}{100} & \\multicolumn{2}{l}{200} & \\multicolumn{2}{l}{800} \\\\\n",
      "EMA decay &    0.0 &  0.999 &    0.0 &  0.999 &    0.0 &  0.999 &    0.0 &  0.999 \\\\\n",
      "Models            &        &        &        &        &        &        &        &        \\\\\n",
      "\\midrule\n",
      "Mix-Match         &  83.02 &  55.00 &  75.73 &  81.98 &  92.50 &  88.85 &  94.69 &  96.88 \\\\\n",
      "Transfer Learning &  58.96 &  37.92 &  78.65 &  40.10 &  90.52 &  53.23 &  95.00 &  77.92 \\\\\n",
      "Fix-Match         &  86.33 &  72.66 &  82.91 &  75.88 &  97.07 &  98.14 &  98.34 &  98.05 \\\\\n",
      "\\bottomrule\n",
      "\\end{tabular}\n",
      "\n"
     ]
    }
   ],
   "source": [
    "print(grouped_ema[[40, 100, 200, 800]].to_latex(bold_rows=False))"
   ]
  },
  {
   "cell_type": "code",
   "execution_count": 53,
   "metadata": {},
   "outputs": [
    {
     "name": "stdout",
     "output_type": "stream",
     "text": [
      "\\begin{tabular}{lrrrrrr}\n",
      "\\toprule\n",
      "\\$n\\_l\\$ & \\multicolumn{2}{l}{2000} & \\multicolumn{2}{l}{4000} & \\multicolumn{2}{l}{20000} \\\\\n",
      "EMA decay &    0.0 &  0.999 &    0.0 &  0.999 &    0.0 &  0.999 \\\\\n",
      "Models            &        &        &        &        &        &        \\\\\n",
      "\\midrule\n",
      "Mix-Match         &  98.02 &  98.23 &  98.02 &  98.96 &  99.06 &  98.75 \\\\\n",
      "Transfer Learning &  97.71 &  97.60 &  98.23 &  99.17 &  99.38 &  99.90 \\\\\n",
      "Fix-Match         &  97.85 &  99.12 &  98.34 &  99.32 &  98.63 &  99.41 \\\\\n",
      "\\bottomrule\n",
      "\\end{tabular}\n",
      "\n"
     ]
    }
   ],
   "source": [
    "print(grouped_ema[[2000, 4000, 20000]].to_latex(bold_rows=False))"
   ]
  },
  {
   "cell_type": "markdown",
   "metadata": {},
   "source": [
    "## Running times"
   ]
  },
  {
   "cell_type": "code",
   "execution_count": 54,
   "metadata": {},
   "outputs": [],
   "source": [
    "finished_runs = runs[~runs.end_time.isna()]\n",
    "finished_runs['duration'] = finished_runs.end_time - finished_runs.start_time"
   ]
  },
  {
   "cell_type": "code",
   "execution_count": 55,
   "metadata": {},
   "outputs": [],
   "source": [
    "# finished_runs.drop_duplicates()"
   ]
  },
  {
   "cell_type": "code",
   "execution_count": 56,
   "metadata": {},
   "outputs": [
    {
     "data": {
      "text/html": [
       "<div>\n",
       "<style scoped>\n",
       "    .dataframe tbody tr th:only-of-type {\n",
       "        vertical-align: middle;\n",
       "    }\n",
       "\n",
       "    .dataframe tbody tr th {\n",
       "        vertical-align: top;\n",
       "    }\n",
       "\n",
       "    .dataframe thead th {\n",
       "        text-align: right;\n",
       "    }\n",
       "</style>\n",
       "<table border=\"1\" class=\"dataframe\">\n",
       "  <thead>\n",
       "    <tr style=\"text-align: right;\">\n",
       "      <th>$n_l$</th>\n",
       "      <th>40</th>\n",
       "      <th>100</th>\n",
       "      <th>200</th>\n",
       "      <th>800</th>\n",
       "      <th>2000</th>\n",
       "      <th>4000</th>\n",
       "      <th>20000</th>\n",
       "    </tr>\n",
       "    <tr>\n",
       "      <th>Models</th>\n",
       "      <th></th>\n",
       "      <th></th>\n",
       "      <th></th>\n",
       "      <th></th>\n",
       "      <th></th>\n",
       "      <th></th>\n",
       "      <th></th>\n",
       "    </tr>\n",
       "  </thead>\n",
       "  <tbody>\n",
       "    <tr>\n",
       "      <th>Mix-Match</th>\n",
       "      <td>1 days 16:05:42.762000</td>\n",
       "      <td>0 days 09:12:09.851000</td>\n",
       "      <td>0 days 06:13:50.159000</td>\n",
       "      <td>02:30:29.069000</td>\n",
       "      <td>02:37:38.403000</td>\n",
       "      <td>02:24:19.021000</td>\n",
       "      <td>02:26:40.044000</td>\n",
       "    </tr>\n",
       "    <tr>\n",
       "      <th>Transfer Learning</th>\n",
       "      <td>0 days 00:10:38.599000</td>\n",
       "      <td>0 days 00:09:49.362000</td>\n",
       "      <td>0 days 00:12:15.652000</td>\n",
       "      <td>00:15:21.014000</td>\n",
       "      <td>00:24:53.473000</td>\n",
       "      <td>00:33:37.902000</td>\n",
       "      <td>01:39:14.940000</td>\n",
       "    </tr>\n",
       "    <tr>\n",
       "      <th>Fix-Match</th>\n",
       "      <td>5 days 09:36:35.105000</td>\n",
       "      <td>1 days 19:04:12.710000</td>\n",
       "      <td>1 days 00:40:55.927000</td>\n",
       "      <td>09:58:35.784000</td>\n",
       "      <td>10:40:04.375000</td>\n",
       "      <td>09:50:57.640000</td>\n",
       "      <td>07:51:53.439000</td>\n",
       "    </tr>\n",
       "  </tbody>\n",
       "</table>\n",
       "</div>"
      ],
      "text/plain": [
       "$n_l$                              40                     100    \\\n",
       "Models                                                            \n",
       "Mix-Match         1 days 16:05:42.762000 0 days 09:12:09.851000   \n",
       "Transfer Learning 0 days 00:10:38.599000 0 days 00:09:49.362000   \n",
       "Fix-Match         5 days 09:36:35.105000 1 days 19:04:12.710000   \n",
       "\n",
       "$n_l$                              200             800             2000   \\\n",
       "Models                                                                     \n",
       "Mix-Match         0 days 06:13:50.159000 02:30:29.069000 02:37:38.403000   \n",
       "Transfer Learning 0 days 00:12:15.652000 00:15:21.014000 00:24:53.473000   \n",
       "Fix-Match         1 days 00:40:55.927000 09:58:35.784000 10:40:04.375000   \n",
       "\n",
       "$n_l$                       4000            20000  \n",
       "Models                                             \n",
       "Mix-Match         02:24:19.021000 02:26:40.044000  \n",
       "Transfer Learning 00:33:37.902000 01:39:14.940000  \n",
       "Fix-Match         09:50:57.640000 07:51:53.439000  "
      ]
     },
     "execution_count": 56,
     "metadata": {},
     "output_type": "execute_result"
    }
   ],
   "source": [
    "times = finished_runs.sort_values('metrics.acc_top1', ascending=False).\\\n",
    "    groupby(['experiment_id', 'params.n_labels_train'])['duration'].agg(['first'])\n",
    "\n",
    "# times = times.stack()\n",
    "# times = times.rename('duration')\n",
    "# times.columns = ['duration']\n",
    "times = times.unstack(level=1)\n",
    "times = times.droplevel(0, axis=1)\n",
    "# times = times.reset_index()\n",
    "\n",
    "# grouped_max['params.n_labels_train'] = grouped_max['params.n_labels_train'].astype(int)\n",
    "times.index = times.index.map({'1': 'Mix-Match', '2': 'Transfer Learning', '4': 'Fix-Match'})\n",
    "times.columns.names = ['$n_l$']\n",
    "times.index.name = 'Models'\n",
    "times"
   ]
  },
  {
   "cell_type": "code",
   "execution_count": 57,
   "metadata": {},
   "outputs": [],
   "source": [
    "def strfdelta(tdelta, fmt_dict):\n",
    "    d = {\"days\": tdelta.days}\n",
    "    d[\"hours\"], rem = divmod(tdelta.seconds, 3600)\n",
    "    d[\"minutes\"], d[\"seconds\"] = divmod(rem, 60)\n",
    "    if d[\"days\"] == 0:\n",
    "        fmt_dict.pop('days')\n",
    "    if d[\"hours\"] == 0:\n",
    "        fmt_dict.pop('hours')\n",
    "    return ''.join([fmt.format(**d) for fmt in fmt_dict.values()])"
   ]
  },
  {
   "cell_type": "code",
   "execution_count": 58,
   "metadata": {},
   "outputs": [],
   "source": [
    "times = times.applymap(lambda val: strfdelta(val, {'days': '{days}d ', 'hours': '{hours}h ', 'minutes': '{minutes}m '}))"
   ]
  },
  {
   "cell_type": "code",
   "execution_count": 59,
   "metadata": {},
   "outputs": [
    {
     "name": "stdout",
     "output_type": "stream",
     "text": [
      "\\begin{tabular}{llllllll}\n",
      "\\toprule\n",
      "\\$n\\_l\\$ &       40    &       100   &    200   &    800   &     2000  &    4000  &    20000 \\\\\n",
      "Models            &             &             &          &          &           &          &          \\\\\n",
      "\\midrule\n",
      "Mix-Match         &  1d 16h 5m  &     9h 12m  &  6h 13m  &  2h 30m  &   2h 37m  &  2h 24m  &  2h 26m  \\\\\n",
      "Transfer Learning &        10m  &         9m  &     12m  &     15m  &      24m  &     33m  &  1h 39m  \\\\\n",
      "Fix-Match         &  5d 9h 36m  &  1d 19h 4m  &  1d 40m  &  9h 58m  &  10h 40m  &  9h 50m  &  7h 51m  \\\\\n",
      "\\bottomrule\n",
      "\\end{tabular}\n",
      "\n"
     ]
    }
   ],
   "source": [
    "print(times.to_latex(bold_rows=False))"
   ]
  },
  {
   "cell_type": "code",
   "execution_count": null,
   "metadata": {},
   "outputs": [],
   "source": []
  },
  {
   "cell_type": "code",
   "execution_count": null,
   "metadata": {},
   "outputs": [],
   "source": []
  }
 ],
 "metadata": {
  "kernelspec": {
   "display_name": "Python 3",
   "language": "python",
   "name": "python3"
  },
  "language_info": {
   "codemirror_mode": {
    "name": "ipython",
    "version": 3
   },
   "file_extension": ".py",
   "mimetype": "text/x-python",
   "name": "python",
   "nbconvert_exporter": "python",
   "pygments_lexer": "ipython3",
   "version": "3.7.6"
  }
 },
 "nbformat": 4,
 "nbformat_minor": 4
}
